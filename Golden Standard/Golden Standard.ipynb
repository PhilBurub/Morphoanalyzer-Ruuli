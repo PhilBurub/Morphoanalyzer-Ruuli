{
 "cells": [
  {
   "cell_type": "code",
   "execution_count": 1,
   "id": "aea55bfd",
   "metadata": {},
   "outputs": [],
   "source": [
    "import os\n",
    "import json\n",
    "from speach import elan\n",
    "import string\n",
    "import pandas as pd\n",
    "import warnings"
   ]
  },
  {
   "cell_type": "code",
   "execution_count": 2,
   "id": "9535fa2a",
   "metadata": {},
   "outputs": [],
   "source": [
    "def parsefile(file):\n",
    "    punct = string.punctuation\n",
    "    table = pd.read_csv(file, sep='\\t')\n",
    "    speakers = {i.split('@')[-1] for i in table.columns}\n",
    "    glossing = []\n",
    "    for speaker in speakers:\n",
    "        table_A = table[[f'tx@{speaker}', f'mb@{speaker}', f'ge@{speaker}']]\n",
    "        table_A.dropna(inplace=True)\n",
    "        table_A = table_A.groupby(f'tx@{speaker}').aggregate({f'mb@{speaker}': list, f'ge@{speaker}': list})\n",
    "        for row in table_A.itertuples():\n",
    "            morph = 0\n",
    "            for word in row[0].split():\n",
    "                wordform = word.lower().strip(punct)\n",
    "                glosses = []\n",
    "                root = False\n",
    "                if morph >= len(row[2]):\n",
    "                    continue\n",
    "                while morph < len(row[2]) and not(root == True and row[2][morph][0] not in ('-', '=')):\n",
    "                    if row[2][morph][-1] in ('-', '='):\n",
    "                        glosses.append(row[2][morph])\n",
    "                    if row[2][morph][-1] not in ('-', '=') and row[2][morph][0] not in ('-', '='):\n",
    "                        root = True\n",
    "                        glosses.append(row[2][morph])\n",
    "                    if row[2][morph][0] in ('-', '='):\n",
    "                        glosses.append(row[2][morph])\n",
    "                    morph += 1\n",
    "                glossing.append((wordform, set(glosses)))\n",
    "    return glossing"
   ]
  },
  {
   "cell_type": "code",
   "execution_count": 3,
   "id": "3a4857d0",
   "metadata": {},
   "outputs": [],
   "source": [
    "warnings.simplefilter('ignore')\n",
    "glossing = []\n",
    "for file in os.listdir('ELAN'):\n",
    "    if file.split('.')[-1] == 'txt':\n",
    "        glossing.extend(parsefile(f'ELAN/{file}'))        "
   ]
  },
  {
   "cell_type": "code",
   "execution_count": 4,
   "id": "5f4f9237",
   "metadata": {},
   "outputs": [],
   "source": [
    "def convarg(text):\n",
    "    if text[:2].isnumeric():\n",
    "        cl = 2\n",
    "    else:\n",
    "        cl = 1\n",
    "    \n",
    "    new = text[:cl]\n",
    "    \n",
    "    if text[cl].islower():\n",
    "        new += text[cl:cl+2] + '.'\n",
    "    \n",
    "    if text[-2] == 'O':\n",
    "        new += 'obj'\n",
    "    elif text[-2] == 'S':\n",
    "        new += 'sbj'\n",
    "    \n",
    "    return new"
   ]
  },
  {
   "cell_type": "code",
   "execution_count": 5,
   "id": "0e55ac9d",
   "metadata": {},
   "outputs": [],
   "source": [
    "def is_Ruuli(word):\n",
    "    for char in word:\n",
    "        if char not in \"bdjgptckvzfslrmnwyŋiueoa'\":\n",
    "            return False\n",
    "    return True"
   ]
  },
  {
   "cell_type": "code",
   "execution_count": 6,
   "id": "a0bd19e1",
   "metadata": {},
   "outputs": [],
   "source": [
    "standard = []"
   ]
  },
  {
   "cell_type": "code",
   "execution_count": 8,
   "id": "8640fc72",
   "metadata": {},
   "outputs": [],
   "source": [
    "for wordform in glossing:\n",
    "    form = wordform[0].strip(string.punctuation+'”“…').replace(\"’\", \"'\")\n",
    "    if not is_Ruuli(form):\n",
    "        continue\n",
    "    glosses = wordform[1]\n",
    "    new_glosses = []\n",
    "    for gloss in glosses:\n",
    "        if len(gloss.split('~')) > 1:\n",
    "            gloss = gloss.split('~')[0]\n",
    "        \n",
    "        if gloss == '' or gloss.islower() or '?' in gloss or '*' in gloss:\n",
    "            continue\n",
    "        \n",
    "        if gloss.lower == 'interj':\n",
    "            new_glosses.extend(['intj'])\n",
    "            continue\n",
    "        \n",
    "        if gloss[0].isnumeric() and gloss[-2:] in ('O-', 'S-'):\n",
    "            new_glosses.extend([convarg(gloss)])\n",
    "            continue\n",
    "        \n",
    "        gloss = gloss.strip('~-=')\n",
    "        \n",
    "        if len(gloss.split('.')) > 1 and gloss.split('.')[0].isnumeric and not gloss.split('.')[1].isupper():\n",
    "            new_glosses.extend([gloss.split('.')[0]])\n",
    "            continue\n",
    "            \n",
    "        if len(gloss.split('.')) > 1 and gloss.split('.')[0].isnumeric() and gloss.split('.')[1] in ('PROX', 'MED', 'DIST'):\n",
    "            new_glosses.extend(gloss.lower().split('.'))\n",
    "            continue\n",
    "            \n",
    "        if gloss[-4:] == 'POSS':\n",
    "            new_glosses.extend([gloss.replace('POSS', '').replace('.', ''), 'assoc'])\n",
    "            continue\n",
    "        \n",
    "        if gloss.lower() == 'neg.imp':\n",
    "            new_glosses.extend(['neg'])\n",
    "            continue\n",
    "        \n",
    "        if len(gloss) >= 4 and gloss[0].isnumeric() and gloss[-1] in ('O', 'S'):\n",
    "            new_glosses.extend([gloss[:-1]])\n",
    "            continue\n",
    "            \n",
    "        if gloss.replace('_', '').isalpha() and not gloss.isupper() or gloss.lower() in ('hort', 'rc'):\n",
    "            continue\n",
    "            \n",
    "        if gloss == 'AUX':\n",
    "            new_glosses.extend(['cop'])\n",
    "            continue\n",
    "            \n",
    "        if len(gloss.split(':')) > 1 and gloss.split(':')[1].isupper():\n",
    "            if gloss.split(':')[0].isupper():\n",
    "                new_glosses.extend([gloss.lower()])\n",
    "            else:\n",
    "                new_glosses.extend([gloss.lower().split(':')[1]])\n",
    "            continue\n",
    "        \n",
    "        if len(gloss.split('.')) > 1 and gloss.split('.')[1].lower() == 'gen':\n",
    "            new_glosses.extend([gloss.lower().split('.')[0]])\n",
    "            continue\n",
    "        \n",
    "        if gloss.lower() in ('quot', 'com', '?', 'compl', 'pers', 'pot') \\\n",
    "            or gloss[0] in ('[', ']', '?') or gloss[-1] in ('[', ']', '?'):\n",
    "            continue\n",
    "            \n",
    "        new_glosses.extend([gloss.lower()])\n",
    "    entry = (form, new_glosses)\n",
    "    if entry not in standard:\n",
    "        standard.append(entry)"
   ]
  },
  {
   "cell_type": "code",
   "execution_count": 9,
   "id": "72b25c56",
   "metadata": {},
   "outputs": [],
   "source": [
    "with open('standard.json', 'w', encoding='utf-8') as f:\n",
    "    json.dump(standard, f, ensure_ascii=False, indent='\\t')"
   ]
  },
  {
   "cell_type": "code",
   "execution_count": null,
   "id": "528a2e53",
   "metadata": {},
   "outputs": [],
   "source": []
  }
 ],
 "metadata": {
  "kernelspec": {
   "display_name": "Python 3 (ipykernel)",
   "language": "python",
   "name": "python3"
  },
  "language_info": {
   "codemirror_mode": {
    "name": "ipython",
    "version": 3
   },
   "file_extension": ".py",
   "mimetype": "text/x-python",
   "name": "python",
   "nbconvert_exporter": "python",
   "pygments_lexer": "ipython3",
   "version": "3.9.12"
  }
 },
 "nbformat": 4,
 "nbformat_minor": 5
}
