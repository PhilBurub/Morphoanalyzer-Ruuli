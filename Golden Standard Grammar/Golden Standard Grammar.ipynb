{
 "cells": [
  {
   "cell_type": "code",
   "execution_count": 1,
   "id": "49381742",
   "metadata": {},
   "outputs": [],
   "source": [
    "import json\n",
    "import re\n",
    "from string import punctuation"
   ]
  },
  {
   "cell_type": "code",
   "execution_count": 2,
   "id": "cb02e07e",
   "metadata": {},
   "outputs": [],
   "source": [
    "with open('ruu_patterns.lexd', 'r', encoding='utf-8') as f:\n",
    "    rules = f.read()\n",
    "\n",
    "grammar_tags = [tag.lower() for tags in set(re.findall(r'(?<=<).+?(?=>)', rules)) for tag in tags.split('.')]\n",
    "grammar_tags.append('<red>')\n",
    "grammar_tags = set(grammar_tags)"
   ]
  },
  {
   "cell_type": "code",
   "execution_count": 3,
   "id": "8dbf1d4d",
   "metadata": {},
   "outputs": [],
   "source": [
    "with open('gram_tags.json', 'w', encoding='utf-8') as f:\n",
    "    json.dump(list(grammar_tags), f)"
   ]
  },
  {
   "cell_type": "code",
   "execution_count": 4,
   "id": "a1339cf4",
   "metadata": {},
   "outputs": [],
   "source": [
    "with open('Golden Standard.txt', 'r', encoding='utf-8') as f:\n",
    "    content = f.read()\n",
    "\n",
    "standard = []\n",
    "for word in content.split('\\n\\n\\n'):\n",
    "    wordform, _, gram = word.split('\\n')\n",
    "    tags = []\n",
    "    for tag in re.split(r'[\\-\\.=:]', gram.lower()):\n",
    "        if tag in grammar_tags:\n",
    "            tags.append(tag)\n",
    "    if len(tags) < 1:\n",
    "        continue\n",
    "    entry = [wordform.lower().strip(punctuation+' '), tags]\n",
    "    if entry not in standard:\n",
    "        standard.append(entry)"
   ]
  },
  {
   "cell_type": "code",
   "execution_count": 5,
   "id": "ca2a084a",
   "metadata": {},
   "outputs": [],
   "source": [
    "with open('standard.json', 'w', encoding='utf-8') as f:\n",
    "    json.dump(standard, f, indent='\\t', ensure_ascii=False)"
   ]
  },
  {
   "cell_type": "code",
   "execution_count": 6,
   "id": "1792c0b1",
   "metadata": {},
   "outputs": [
    {
     "data": {
      "text/plain": [
       "113"
      ]
     },
     "execution_count": 6,
     "metadata": {},
     "output_type": "execute_result"
    }
   ],
   "source": [
    "len(standard)"
   ]
  },
  {
   "cell_type": "code",
   "execution_count": null,
   "id": "76076bc4",
   "metadata": {},
   "outputs": [],
   "source": []
  }
 ],
 "metadata": {
  "kernelspec": {
   "display_name": "Python 3 (ipykernel)",
   "language": "python",
   "name": "python3"
  },
  "language_info": {
   "codemirror_mode": {
    "name": "ipython",
    "version": 3
   },
   "file_extension": ".py",
   "mimetype": "text/x-python",
   "name": "python",
   "nbconvert_exporter": "python",
   "pygments_lexer": "ipython3",
   "version": "3.9.12"
  }
 },
 "nbformat": 4,
 "nbformat_minor": 5
}
