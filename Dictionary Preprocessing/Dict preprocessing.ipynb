{
 "cells": [
  {
   "cell_type": "code",
   "execution_count": 1,
   "id": "7fced6d5",
   "metadata": {},
   "outputs": [],
   "source": [
    "import pandas as pd\n",
    "import re"
   ]
  },
  {
   "cell_type": "code",
   "execution_count": 2,
   "id": "eb55d09c",
   "metadata": {},
   "outputs": [],
   "source": [
    "data = pd.read_excel('Ruuli_dictionary.xlsx')"
   ]
  },
  {
   "cell_type": "markdown",
   "id": "618722c2",
   "metadata": {},
   "source": [
    "# NOUNS"
   ]
  },
  {
   "cell_type": "markdown",
   "id": "eaab5f62",
   "metadata": {},
   "source": [
    "# 1. Check Noun Class Correspondence"
   ]
  },
  {
   "cell_type": "code",
   "execution_count": 3,
   "id": "21a7cb0c",
   "metadata": {},
   "outputs": [],
   "source": [
    "dct_nc = set([j for i in list(set(data.NC.values))[1:] for j in re.findall(r'\\d{1,2}\\w?', i)])"
   ]
  },
  {
   "cell_type": "code",
   "execution_count": 4,
   "id": "d17a4fca",
   "metadata": {},
   "outputs": [],
   "source": [
    "an_nc = set([str(i) for i in range(1,17)])\n",
    "an_nc.update(('1a', '3a', '5a', '5b', '9a', '10a'))"
   ]
  },
  {
   "cell_type": "code",
   "execution_count": 5,
   "id": "c233327f",
   "metadata": {},
   "outputs": [
    {
     "data": {
      "text/plain": [
       "{'10a', '3a', '5b', '9a'}"
      ]
     },
     "execution_count": 5,
     "metadata": {},
     "output_type": "execute_result"
    }
   ],
   "source": [
    "an_nc.difference(dct_nc)"
   ]
  },
  {
   "cell_type": "code",
   "execution_count": 6,
   "id": "91063614",
   "metadata": {},
   "outputs": [],
   "source": [
    "classes = '''<1><n>:mu[1]\n",
    "<2><n>:ba[2]\n",
    "<3><n>:mu[3]\n",
    "<4><n>:mi[4]\n",
    "<5><n>:i[5]\n",
    "<5><n>:li[5b]\n",
    "<6><n>:ma[6]\n",
    "<7><n>:ki[7]\n",
    "<8><n>:bi[8]\n",
    "<9><n>:n[9]\n",
    "<10><n>:n[10]\n",
    "<11><n>:lu[11]\n",
    "<12><n>:ka[12]\n",
    "<13><n>:tu[13]\n",
    "<14><n>:bu[14]\n",
    "<15><n>:ku[15]\n",
    "<16><n>:wa[16]\n",
    "<20><n>:gu[20]\n",
    "<22><n>:ga[22]'''\n",
    "\n",
    "class2prefix = {}\n",
    "class2prefix['1a'] = ''\n",
    "class2prefix['5a'] = ''\n",
    "for line in classes.split('\\n'):\n",
    "    class_num = re.findall(r'\\[\\d{1,2}\\w?\\]', line)[0][1:-1]\n",
    "    prefix = re.findall(r':[a-z]{1,2}\\[', line)[0][1:-1]\n",
    "    class2prefix[class_num] = prefix"
   ]
  },
  {
   "cell_type": "code",
   "execution_count": 7,
   "id": "ff496d44",
   "metadata": {},
   "outputs": [
    {
     "data": {
      "text/plain": [
       "{'1a': '',\n",
       " '5a': '',\n",
       " '1': 'mu',\n",
       " '2': 'ba',\n",
       " '3': 'mu',\n",
       " '4': 'mi',\n",
       " '5': 'i',\n",
       " '5b': 'li',\n",
       " '6': 'ma',\n",
       " '7': 'ki',\n",
       " '8': 'bi',\n",
       " '9': 'n',\n",
       " '10': 'n',\n",
       " '11': 'lu',\n",
       " '12': 'ka',\n",
       " '13': 'tu',\n",
       " '14': 'bu',\n",
       " '15': 'ku',\n",
       " '16': 'wa',\n",
       " '20': 'gu',\n",
       " '22': 'ga'}"
      ]
     },
     "execution_count": 7,
     "metadata": {},
     "output_type": "execute_result"
    }
   ],
   "source": [
    "class2prefix"
   ]
  },
  {
   "cell_type": "markdown",
   "id": "643139e8",
   "metadata": {},
   "source": [
    "# 2. Verifier of Non-mentioned Classes"
   ]
  },
  {
   "cell_type": "code",
   "execution_count": 8,
   "id": "aec04baf",
   "metadata": {},
   "outputs": [],
   "source": [
    "def isclass(word, class_num, class2prefix=class2prefix):\n",
    "    word = word.lower().replace('r', 'l')\n",
    "    prefix = class2prefix[class_num]\n",
    "    if prefix and prefix[-1] in ('u', 'o') and word[len(prefix)] in ('i', 'o', 'e', 'a'):\n",
    "        prefix = prefix[:-1] + 'w'\n",
    "    elif prefix and prefix[-1] == 'i' and word[len(prefix)] in ('o', 'e', 'a'):\n",
    "        prefix = prefix[:-1] + 'y'\n",
    "    elif prefix == 'n' and word[len(prefix)] in ('b', 'p'):\n",
    "        prefix = 'm'\n",
    "    if word[:len(prefix)] == prefix:\n",
    "        return word[len(prefix):], class_num\n",
    "\n",
    "    if prefix[-1] in ('a', 'i', 'y') and word[len(prefix)] in ('e', 'o', 'i'):\n",
    "        prefix = prefix[:-1]+word[len(prefix)]\n",
    "    if word[:len(prefix)] == prefix:\n",
    "        return word[len(prefix):], class_num\n",
    "    \n",
    "    if prefix[-1] == 'a' and word[len(prefix)-1] in ('e', 'o', 'i'):\n",
    "        prefix = prefix[:-1]\n",
    "    if word[:len(prefix)] == prefix:\n",
    "        return word[len(prefix):], class_num\n",
    "    \n",
    "    if class_num == '5':\n",
    "        prefix = class2prefix['5b']\n",
    "        if word[len(prefix)] in ('o', 'e', 'a'):\n",
    "            prefix = 'ly'\n",
    "        if word[:len(prefix)] == prefix:\n",
    "            return word[len(prefix):], '5b'\n",
    "        \n",
    "    if class_num in ('1', '3', '5', '9', '10'):\n",
    "        return word, class_num+'a'"
   ]
  },
  {
   "cell_type": "code",
   "execution_count": 9,
   "id": "e4dd5ff9",
   "metadata": {
    "scrolled": true
   },
   "outputs": [
    {
     "name": "stdout",
     "output_type": "stream",
     "text": [
      "('omi', '7')\n",
      "('lalu', '5')\n",
      "('iso', '5b')\n",
      "('anda', '5b')\n",
      "('ozi', '1')\n",
      "('igo', '12')\n",
      "('yindi', '1a')\n"
     ]
    }
   ],
   "source": [
    "print(isclass('koomi', '7'), \n",
    "      isclass('iralu', '5'), \n",
    "      isclass('riiso', '5'), \n",
    "      isclass('lyanda', '5'), \n",
    "      isclass('mwozi', '1'), \n",
    "      isclass('kiigo', '12'),\n",
    "      isclass('yindi', '1'),\n",
    "     sep='\\n')"
   ]
  },
  {
   "cell_type": "markdown",
   "id": "930cc3ef",
   "metadata": {},
   "source": [
    "# Meaning Finder"
   ]
  },
  {
   "cell_type": "code",
   "execution_count": 10,
   "id": "c04606cb",
   "metadata": {},
   "outputs": [],
   "source": [
    "def getmeaning(sense):\n",
    "    brackets = re.compile(r' \\(.+?\\)')\n",
    "    sense = brackets.subn('', sense)[0]\n",
    "    sense = re.sub(r'\\w+\\. ', '', sense)\n",
    "    meaning = re.compile(r'[\\w][\\w\\-\\' ]*[\\w]')\n",
    "    out = None\n",
    "    for alternative in meaning.findall(sense):\n",
    "        var = alternative[4:] if alternative[:4] == 'the ' else alternative\n",
    "        if out == None or len(var) < len(out):\n",
    "            out = var.replace(' ', '_').replace('-', '').replace(\"'\", '')\n",
    "    return out"
   ]
  },
  {
   "cell_type": "code",
   "execution_count": 11,
   "id": "e6ee46f1",
   "metadata": {},
   "outputs": [
    {
     "name": "stdout",
     "output_type": "stream",
     "text": [
      "cracked_heel\n",
      "next_day\n",
      "worshipping_style\n",
      "to_pull\n",
      "Acalypha_bipartita\n"
     ]
    }
   ],
   "source": [
    "print(getmeaning('cracked heel, heel fissure'),\n",
    "      getmeaning('next day, the following day, the day after'),\n",
    "      getmeaning('way of worshipping, worshipping style'),\n",
    "      getmeaning('to pull (a trigger), to release (an arrow), to unsnap, to release (a trap)'),\n",
    "      getmeaning('Lat. Acalypha bipartita (type of plant)'),\n",
    "      sep='\\n')"
   ]
  },
  {
   "cell_type": "code",
   "execution_count": 12,
   "id": "4a3357bd",
   "metadata": {},
   "outputs": [],
   "source": [
    "with open('noundict.txt', 'w', encoding='utf-8') as f:\n",
    "    f.write('''<17.loc>:ku[17]\n",
    "<18.loc>:mu[18]\n",
    "<23.loc>:e[23]\n",
    "''')\n",
    "with open('errors.txt', 'w', encoding='utf-8') as err:\n",
    "    pass\n",
    "\n",
    "for entry in data[data.pos == 'n'][['Lemma', 'citation', 'NC', 'Sense']].itertuples():\n",
    "    \n",
    "    if not isinstance(entry.NC, str):\n",
    "        with open('errors.txt', 'a', encoding='utf-8') as err:\n",
    "            err.write(f'ERROR: NO NC. For lemma \"{entry.Lemma}\" noun class was not found;\\n')\n",
    "        continue\n",
    "    \n",
    "    if not isinstance(entry.Sense, str):\n",
    "        with open('errors.txt', 'a', encoding='utf-8') as err:\n",
    "            err.write(f'ERROR: NO MEANING. For lemma \"{entry.Lemma}\" no meaning was not found;\\n')\n",
    "        continue\n",
    "            \n",
    "    classes = [class_num for class_num in re.findall(r'\\d{1,2}\\w?', entry.NC)]\n",
    "    \n",
    "    if len(classes) > 2:\n",
    "        with open('errors.txt', 'a', encoding='utf-8') as err:\n",
    "            err.write(f'ERROR: INVALID NC. For lemma \"{entry.Lemma}\" noun class marker is not appropriate (only 1 '\n",
    "                      'or 2 classes per marker supported);\\n')\n",
    "        continue\n",
    "    \n",
    "    analyzed = isclass(entry.Lemma, classes[0])\n",
    "    \n",
    "    if not analyzed:\n",
    "        with open('errors.txt', 'a', encoding='utf-8') as err:\n",
    "            err.write(f'ERROR: UNSUPPORTED PREFIX. For lemma \"{entry.Lemma}\" of noun class {entry.NC} prefix '\n",
    "                      'correspondence was not detected;\\n')\n",
    "        continue\n",
    "    \n",
    "    root, class_num = analyzed\n",
    "    \n",
    "    if classes[0] != class_num:\n",
    "        classes.remove(classes[0])\n",
    "        classes.append(class_num)\n",
    "        \n",
    "    if class_num == '9a' and '10' in classes:\n",
    "        classes.remove('10')\n",
    "        classes.append('10a')\n",
    "    \n",
    "    sense = getmeaning(entry.Sense)\n",
    "    \n",
    "    if len(classes) == 1 and sense[0].islower() and classes[0] in ('1a', '3', '4', '5', '6', \n",
    "                                                                    '8', '9', '10', '11', '14'):\n",
    "        classes.append('mass')\n",
    "    \n",
    "    if isinstance(entry.citation, str):\n",
    "        if entry.citation[:3] not in ('(a)', '(o)', '(e)'):\n",
    "            classes.append('naug')\n",
    "    else:\n",
    "        if class_num[-1] == 'a' and root[0] == 'a':\n",
    "            classes.append('naug')\n",
    "    \n",
    "    with open('noundict.txt', 'a', encoding='utf-8') as f:\n",
    "        f.write(f'<{sense}>:{root.replace(\" \", \"\")}[{\",\".join(classes)}]\\n')\n",
    "        \n",
    "        if root[0] == 'y' and '5' in classes and '6' in classes:\n",
    "            f.write(f'<{sense}>:{root[1:].replace(\" \", \"\")}[{\",\".join(classes)}]\\n')"
   ]
  },
  {
   "cell_type": "code",
   "execution_count": 13,
   "id": "b7c88756",
   "metadata": {},
   "outputs": [],
   "source": [
    "#f'<{meaning}>:{root}[{classes,naug,mass}]'"
   ]
  },
  {
   "cell_type": "markdown",
   "id": "0c079d71",
   "metadata": {},
   "source": [
    "# VERBS"
   ]
  },
  {
   "cell_type": "code",
   "execution_count": 14,
   "id": "f2eafe7c",
   "metadata": {},
   "outputs": [],
   "source": [
    "def getinf(npfv, pfv):\n",
    "    if pfv[:-3] == npfv[:-1] and pfv[-3:] in ('ire', 'ere'):\n",
    "        return ((npfv[:-1], (pfv[-3])), ())\n",
    "    \n",
    "    if not 'a' in npfv[:-1] and not 'o' in npfv[:-1] and not 'u' in npfv[:-1] and not 'i' in npfv[:-1] and \\\n",
    "                                                    not 'e' in npfv[:-1]:\n",
    "        return ((npfv, ('i','1sy')), ())\n",
    "    \n",
    "    for char in npfv[-2::-1]:\n",
    "        if char in ('e', 'o'):\n",
    "            cls = 'e'\n",
    "            break\n",
    "        if char in ('i', 'u', 'a'):\n",
    "            cls = 'i'\n",
    "            break\n",
    "    return ((npfv[:-1], (cls)), (pfv, 'pfv'))"
   ]
  },
  {
   "cell_type": "code",
   "execution_count": 15,
   "id": "2e95003d",
   "metadata": {},
   "outputs": [],
   "source": [
    "def getmeaning(sense):\n",
    "    brackets = re.compile(r'[ ]?\\(.+?\\)')\n",
    "    sense = brackets.subn('', sense)[0]\n",
    "    sense = re.sub(r'\\w+\\. ', '', sense)\n",
    "    meaning = re.compile(r'[\\w][\\w\\-\\' ]*[\\w]')\n",
    "    out = None\n",
    "    for alternative in meaning.findall(sense):\n",
    "        var = alternative[3:] if alternative[:3] == 'to ' else alternative\n",
    "        if out == None or len(var) < len(out):\n",
    "            out = var.replace(' ', '_').replace('-', '').replace(\"'\", '')\n",
    "    return out"
   ]
  },
  {
   "cell_type": "code",
   "execution_count": 16,
   "id": "bf2d190c",
   "metadata": {},
   "outputs": [],
   "source": [
    "with open('verbdict.txt', 'w', encoding='utf-8') as f:\n",
    "    pass\n",
    "\n",
    "for entry in data[data.pos == 'v'][['Lemma', 'PFV', 'Sense']].itertuples():\n",
    "    if entry.Lemma[-1] != 'a':\n",
    "        with open('errors.txt', 'a', encoding='utf-8') as err:\n",
    "            err.write(f'ERROR: UNSUPPORTED LEMMA. For lemma \"{entry.Lemma}\" final vowel cannot be detected;\\n')\n",
    "        continue\n",
    "        \n",
    "    sense = getmeaning(entry.Sense)\n",
    "    \n",
    "    if not isinstance(sense, str):\n",
    "        with open('errors.txt', 'a', encoding='utf-8') as err:\n",
    "            err.write(f'ERROR: NO MEANING. For lemma \"{entry.Lemma}\" no meaning was found;\\n')\n",
    "        continue\n",
    "    \n",
    "    if not entry.Lemma.isalpha():\n",
    "        with open('errors.txt', 'a', encoding='utf-8') as err:\n",
    "            err.write(f'ERROR: WRONG LEMMA. Lemma \"{entry.Lemma}\" is not supported;\\n')\n",
    "        continue\n",
    "    \n",
    "    if type(entry.PFV) != str or not entry.PFV.isalpha():    \n",
    "        npfv = entry.Lemma[:-1]\n",
    "        for char in npfv[::-1]:\n",
    "            if char in ('e', 'o'):\n",
    "                cls = 'e'\n",
    "                break\n",
    "            if char in ('i', 'u', 'a'):\n",
    "                cls = 'i'\n",
    "                break\n",
    "        with open('verbdict.txt', 'a', encoding='utf-8') as f:\n",
    "            f.write(f'<{sense}>:{npfv}[{cls}]\\n')\n",
    "    else:  \n",
    "        npfv, pfv = getinf(entry.Lemma, entry.PFV)            \n",
    "        with open('verbdict.txt', 'a', encoding='utf-8') as f:\n",
    "            f.write(f'<{sense}>:{npfv[0]}[{\",\".join(npfv[1])}]\\n')\n",
    "            if pfv != ():\n",
    "                f.write(f\"<{sense}>:{pfv[0]}[pfv]\\n\")"
   ]
  },
  {
   "cell_type": "markdown",
   "id": "19161693",
   "metadata": {},
   "source": [
    "# ADJECTIVES"
   ]
  },
  {
   "cell_type": "code",
   "execution_count": 17,
   "id": "6e2b4e51",
   "metadata": {},
   "outputs": [],
   "source": [
    "def getmeaning(sense):\n",
    "    brackets = re.compile(r'[ ]?\\(.+?\\)')\n",
    "    sense = brackets.subn('', sense)[0]\n",
    "    sense = re.sub(r'\\w+\\. ', '', sense)\n",
    "    meaning = re.compile(r'[\\w][\\w\\-\\' ]*[\\w]')\n",
    "    out = None\n",
    "    for alternative in meaning.findall(sense):\n",
    "        var = alternative\n",
    "        if out == None or len(var) < len(out):\n",
    "            out = var.replace(' ', '_').replace('-', '').replace(\"'\", '')\n",
    "    return out"
   ]
  },
  {
   "cell_type": "code",
   "execution_count": 18,
   "id": "40a37896",
   "metadata": {},
   "outputs": [],
   "source": [
    "with open('adjdict.txt', 'w', encoding='utf-8') as f:\n",
    "    pass\n",
    "for entry in data[data.pos == 'adj'][['Lemma', 'Sense']].itertuples():\n",
    "    if not entry.Lemma.isalpha():\n",
    "        with open('errors.txt', 'a', encoding='utf-8') as err:\n",
    "            err.write(f'ERROR: WRONG LEMMA. Lemma \"{entry.Lemma}\" is not supported;\\n')\n",
    "        continue\n",
    "        \n",
    "    sense = getmeaning(entry.Sense)\n",
    "    if not isinstance(sense, str):\n",
    "        with open('errors.txt', 'a', encoding='utf-8') as err:\n",
    "            err.write(f'ERROR: NO MEANING. For lemma \"{entry.Lemma}\" no meaning was found;\\n')\n",
    "        continue\n",
    "        \n",
    "    with open('adjdict.txt', 'a', encoding='utf-8') as f:\n",
    "            f.write(f'<{sense}>:{entry.Lemma}\\n')"
   ]
  },
  {
   "cell_type": "markdown",
   "id": "8c7f79b5",
   "metadata": {},
   "source": [
    "# NON-INFLECTING PARTS ON SPEECH"
   ]
  },
  {
   "cell_type": "code",
   "execution_count": 19,
   "id": "e24f04cc",
   "metadata": {},
   "outputs": [],
   "source": [
    "def getmeaning(sense):\n",
    "    brackets = re.compile(r'[ ]?\\(.+?\\)')\n",
    "    sense = brackets.subn('', sense)[0]\n",
    "    sense = re.sub(r'\\w+\\. ', '', sense)\n",
    "    meaning = re.compile(r'[\\w][\\w\\-\\' ]*[\\w]')\n",
    "    out = None\n",
    "    for alternative in meaning.findall(sense):\n",
    "        var = alternative\n",
    "        if out == None or len(var) < len(out):\n",
    "            out = var.replace(' ', '_').replace('-', '').replace(\"'\", '')\n",
    "    return out"
   ]
  },
  {
   "cell_type": "code",
   "execution_count": 20,
   "id": "115a56da",
   "metadata": {},
   "outputs": [],
   "source": [
    "with open('restdict.txt', 'w', encoding='utf-8') as f:\n",
    "    pass\n",
    "\n",
    "conv = {'adv': 'adv',\n",
    "       'conj': 'conj',\n",
    "       'ideo': 'ideo',\n",
    "       'interj': 'intj',\n",
    "       'interrog': 'inter',\n",
    "       'num': 'num',\n",
    "       'part': 'part',\n",
    "       'prep': 'prep',\n",
    "       'pro': 'pro',\n",
    "       'quant': 'q'}\n",
    "\n",
    "for entry in data[[i in conv for i in data.pos]][['Lemma', 'pos', 'Sense']].itertuples():\n",
    "    if not entry.Lemma.isalpha():\n",
    "        with open('errors.txt', 'a', encoding='utf-8') as err:\n",
    "            err.write(f'ERROR: WRONG LEMMA. Lemma \"{entry.Lemma}\" is not supported;\\n')\n",
    "        continue\n",
    "        \n",
    "    sense = getmeaning(entry.Sense)\n",
    "    if not isinstance(sense, str):\n",
    "        with open('errors.txt', 'a', encoding='utf-8') as err:\n",
    "            err.write(f'ERROR: NO MEANING. For lemma \"{entry.Lemma}\" no meaning was found;\\n')\n",
    "        continue\n",
    "    form = entry.Lemma.strip('(').strip('-').strip(')')\n",
    "    pos = conv[entry.pos]\n",
    "    with open('restdict.txt', 'a', encoding='utf-8') as f:\n",
    "            f.write(f'<{sense}><{pos}>:{form}\\n')"
   ]
  },
  {
   "cell_type": "code",
   "execution_count": null,
   "id": "327b51e7",
   "metadata": {},
   "outputs": [],
   "source": []
  }
 ],
 "metadata": {
  "kernelspec": {
   "display_name": "Python 3 (ipykernel)",
   "language": "python",
   "name": "python3"
  },
  "language_info": {
   "codemirror_mode": {
    "name": "ipython",
    "version": 3
   },
   "file_extension": ".py",
   "mimetype": "text/x-python",
   "name": "python",
   "nbconvert_exporter": "python",
   "pygments_lexer": "ipython3",
   "version": "3.9.12"
  }
 },
 "nbformat": 4,
 "nbformat_minor": 5
}
