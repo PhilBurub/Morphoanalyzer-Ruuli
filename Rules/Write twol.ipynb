{
 "cells": [
  {
   "cell_type": "code",
   "execution_count": 7,
   "id": "11e36ebe",
   "metadata": {},
   "outputs": [],
   "source": [
    "with open('ruu_patterns.lexd', 'r', encoding='utf-8') as f:\n",
    "    content = f.read()\n",
    "\n",
    "with open('ruu.lexd', 'w', encoding='utf-8') as full:\n",
    "    with open('ruu_patterns.lexd', 'r', encoding='utf-8') as rules:\n",
    "        full.write(rules.read())\n",
    "        \n",
    "    full.write('\\n\\nLEXICON NounRoot\\n')\n",
    "    with open('noundict.txt', 'r', encoding='utf-8') as dct:\n",
    "        full.write(dct.read())\n",
    "        \n",
    "    full.write('\\nLEXICON VerbRoot\\n')\n",
    "    with open('verbdict.txt', 'r', encoding='utf-8') as dct:\n",
    "        full.write(dct.read())\n",
    "        \n",
    "    full.write('\\nLEXICON AdjRoot\\n')\n",
    "    with open('adjdict.txt', 'r', encoding='utf-8') as dct:\n",
    "        full.write(dct.read())\n",
    "    \n",
    "    full.write('\\nLEXICON Other\\n')\n",
    "    with open('restdict.txt', 'r', encoding='utf-8') as dct:\n",
    "        full.write(dct.read())"
   ]
  },
  {
   "cell_type": "code",
   "execution_count": null,
   "id": "786dd83c",
   "metadata": {},
   "outputs": [],
   "source": []
  }
 ],
 "metadata": {
  "kernelspec": {
   "display_name": "Python 3 (ipykernel)",
   "language": "python",
   "name": "python3"
  },
  "language_info": {
   "codemirror_mode": {
    "name": "ipython",
    "version": 3
   },
   "file_extension": ".py",
   "mimetype": "text/x-python",
   "name": "python",
   "nbconvert_exporter": "python",
   "pygments_lexer": "ipython3",
   "version": "3.9.12"
  }
 },
 "nbformat": 4,
 "nbformat_minor": 5
}
