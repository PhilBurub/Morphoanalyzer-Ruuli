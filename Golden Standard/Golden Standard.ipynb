{
 "cells": [
  {
   "cell_type": "code",
   "execution_count": 139,
   "id": "aea55bfd",
   "metadata": {},
   "outputs": [],
   "source": [
    "import os\n",
    "import json\n",
    "from speach import elan\n",
    "import string\n",
    "import pandas as pd\n",
    "import warnings"
   ]
  },
  {
   "cell_type": "code",
   "execution_count": 85,
   "id": "9535fa2a",
   "metadata": {},
   "outputs": [],
   "source": [
    "def parsefile(file):\n",
    "    table = pd.read_csv(file, sep='\\t')\n",
    "    speakers = {i.split('@')[-1] for i in table.columns}\n",
    "    glossing = []\n",
    "    for speaker in speakers:\n",
    "        table_A = table[[f'tx@{speaker}', f'mb@{speaker}', f'ge@{speaker}']]\n",
    "        table_A.dropna(inplace=True)\n",
    "        table_A = table_A.groupby(f'tx@{speaker}').aggregate({f'mb@{speaker}': list, f'ge@{speaker}': list})\n",
    "        for row in table_A.itertuples():\n",
    "            morph = 0\n",
    "            for word in row[0].split():\n",
    "                wordform = word.lower().strip(punct)\n",
    "                glosses = []\n",
    "                root = False\n",
    "                if morph >= len(row[2]):\n",
    "                    continue\n",
    "                while morph < len(row[2]) and not(root == True and row[2][morph][0] not in ('-', '=')):\n",
    "                    if row[2][morph][-1] in ('-', '='):\n",
    "                        glosses.append(row[2][morph])\n",
    "                    if row[2][morph][-1] not in ('-', '=') and row[2][morph][0] not in ('-', '='):\n",
    "                        root = True\n",
    "                        glosses.append(row[2][morph])\n",
    "                    if row[2][morph][0] in ('-', '='):\n",
    "                        glosses.append(row[2][morph])\n",
    "                    morph += 1\n",
    "                glossing.append((wordform, set(glosses)))\n",
    "    return glossing"
   ]
  },
  {
   "cell_type": "code",
   "execution_count": 88,
   "id": "3a4857d0",
   "metadata": {},
   "outputs": [],
   "source": [
    "warnings.simplefilter('ignore')\n",
    "glossing = []\n",
    "for file in os.listdir('ELAN'):\n",
    "    if file.split('.')[-1] == 'txt':\n",
    "        glossing.extend(parsefile(f'ELAN/{file}'))        "
   ]
  },
  {
   "cell_type": "code",
   "execution_count": 110,
   "id": "5f4f9237",
   "metadata": {},
   "outputs": [],
   "source": [
    "def convarg(text):\n",
    "    if text[:2].isnumeric():\n",
    "        cl = 2\n",
    "    else:\n",
    "        cl = 1\n",
    "    \n",
    "    new = text[:cl]\n",
    "    \n",
    "    if text[cl].islower():\n",
    "        new += text[cl:cl+2] + '.'\n",
    "    \n",
    "    if text[-2] == 'O':\n",
    "        new += 'obj'\n",
    "    elif text[-2] == 'S':\n",
    "        new += 'sbj'\n",
    "    \n",
    "    return new"
   ]
  },
  {
   "cell_type": "code",
   "execution_count": 142,
   "id": "a0bd19e1",
   "metadata": {},
   "outputs": [],
   "source": [
    "standard = []"
   ]
  },
  {
   "cell_type": "code",
   "execution_count": 143,
   "id": "8640fc72",
   "metadata": {},
   "outputs": [],
   "source": [
    "for wordform in glossing:\n",
    "    form = wordform[0]\n",
    "    glosses = wordform[1]\n",
    "    new_glosses = []\n",
    "    for gloss in glosses:\n",
    "        if gloss[0].isnumeric() and gloss[-2:] in ('O-', 'S-'):\n",
    "            new_glosses.extend([convarg(gloss)])\n",
    "            continue\n",
    "        if len(gloss.split('.')) > 1 and gloss.split('.')[0].isnumeric and not gloss.split('.')[1].isupper():\n",
    "            new_glosses.extend([gloss.split('.')[0]])\n",
    "            continue\n",
    "        if gloss[-4:] == 'POSS':\n",
    "            new_glosses.extend([gloss.replace('POSS', ''), 'assoc'])\n",
    "            continue\n",
    "        if gloss.replace('_', '').isalpha() and not gloss.isupper():\n",
    "            continue\n",
    "        if gloss == 'AUX':\n",
    "            new_glosses.extend(['cop'])\n",
    "            continue\n",
    "        new_glosses.extend([gloss.lower().strip('-=')])\n",
    "    entry = (form, new_glosses)\n",
    "    if entry not in standard:\n",
    "        standard.append(entry)"
   ]
  },
  {
   "cell_type": "code",
   "execution_count": 145,
   "id": "72b25c56",
   "metadata": {},
   "outputs": [],
   "source": [
    "with open('standard.json', 'w', encoding='utf-8') as f:\n",
    "    json.dump(standard, f, ensure_ascii=False, indent='\\t')"
   ]
  },
  {
   "cell_type": "code",
   "execution_count": null,
   "id": "2c3b760f",
   "metadata": {},
   "outputs": [],
   "source": []
  }
 ],
 "metadata": {
  "kernelspec": {
   "display_name": "Python 3 (ipykernel)",
   "language": "python",
   "name": "python3"
  },
  "language_info": {
   "codemirror_mode": {
    "name": "ipython",
    "version": 3
   },
   "file_extension": ".py",
   "mimetype": "text/x-python",
   "name": "python",
   "nbconvert_exporter": "python",
   "pygments_lexer": "ipython3",
   "version": "3.9.12"
  }
 },
 "nbformat": 4,
 "nbformat_minor": 5
}
